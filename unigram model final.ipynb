{
 "cells": [
  {
   "cell_type": "code",
   "execution_count": 1,
   "metadata": {},
   "outputs": [],
   "source": [
    "import nltk\n",
    "from nltk.corpus import movie_reviews\n",
    " \n",
    "pos_reviews = []\n",
    "for fileid in movie_reviews.fileids('pos'):\n",
    "    words = movie_reviews.words(fileid)\n",
    "    pos_reviews.append(words)\n",
    " \n",
    "neg_reviews = []\n",
    "for fileid in movie_reviews.fileids('neg'):\n",
    "    words = movie_reviews.words(fileid)\n",
    "    neg_reviews.append(words)"
   ]
  },
  {
   "cell_type": "code",
   "execution_count": 2,
   "metadata": {},
   "outputs": [],
   "source": [
    "from nltk.corpus import stopwords\n",
    "import string\n",
    "\n",
    "stopwords_english = stopwords.words('english')\n",
    "\n",
    "# feature extractor function\n",
    "def bag_of_words(words):\n",
    "    words_clean = []\n",
    "    \n",
    "    for word in words:\n",
    "        word = word.lower()\n",
    "        if word not in stopwords_english and word not in string.punctuation:\n",
    "            words_clean.append(word)\n",
    "    \n",
    "    words_dictionary = dict([word, True] for word in words_clean)\n",
    "    \n",
    "    return words_dictionary"
   ]
  },
  {
   "cell_type": "code",
   "execution_count": 3,
   "metadata": {},
   "outputs": [],
   "source": [
    "# positive reviews feature set\n",
    "pos_reviews_set = []\n",
    "for words in pos_reviews:\n",
    "    pos_reviews_set.append((bag_of_words(words), 'The review for this movie is POSITIVE'))\n",
    " \n",
    "# negative reviews feature set\n",
    "neg_reviews_set = []\n",
    "for words in neg_reviews:\n",
    "    neg_reviews_set.append((bag_of_words(words), 'The review for this movie is NEGATIVE'))\n",
    "    "
   ]
  },
  {
   "cell_type": "code",
   "execution_count": 4,
   "metadata": {},
   "outputs": [
    {
     "name": "stdout",
     "output_type": "stream",
     "text": [
      "Length of positive review set: 1000\n",
      "Length of negitive review set: 1000\n",
      "Length of testing set: 250\n",
      "Length of training set: 1750\n"
     ]
    }
   ],
   "source": [
    "print (\"Length of positive review set:\",len(pos_reviews_set)) \n",
    "print (\"Length of negitive review set:\",len(neg_reviews_set)) \n",
    "\n",
    "# radomize pos_reviews_set and neg_reviews_set\n",
    "# doing so will output different accuracy result everytime we run the program\n",
    "from random import shuffle\n",
    "shuffle(pos_reviews_set)\n",
    "shuffle(neg_reviews_set)\n",
    " \n",
    "test_set = pos_reviews_set[:125] + neg_reviews_set[:125]\n",
    "train_set = pos_reviews_set[125:] + neg_reviews_set[125:]\n",
    " \n",
    "print(\"Length of testing set:\",len(test_set))\n",
    "print(\"Length of training set:\",len(train_set)) "
   ]
  },
  {
   "cell_type": "code",
   "execution_count": 5,
   "metadata": {},
   "outputs": [
    {
     "name": "stdout",
     "output_type": "stream",
     "text": [
      "Accuracy percent of NaiveBayesClassifier:  0.728\n"
     ]
    }
   ],
   "source": [
    "from nltk import classify\n",
    "from nltk import NaiveBayesClassifier\n",
    " \n",
    "classifier = NaiveBayesClassifier.train(train_set)\n",
    " \n",
    "accuracy = classify.accuracy(classifier, test_set)\n",
    "print(\"Accuracy percent of NaiveBayesClassifier: \",accuracy) \n"
   ]
  },
  {
   "cell_type": "code",
   "execution_count": 6,
   "metadata": {},
   "outputs": [
    {
     "name": "stdout",
     "output_type": "stream",
     "text": [
      "MNB_classifier accuracy percent: 84.0\n"
     ]
    }
   ],
   "source": [
    "from nltk.classify.scikitlearn import SklearnClassifier\n",
    "from sklearn.naive_bayes import MultinomialNB\n",
    "MNB_classifier = SklearnClassifier(MultinomialNB())\n",
    "MNB_classifier.train(train_set)\n",
    "print(\"MNB_classifier accuracy percent:\", (nltk.classify.accuracy(MNB_classifier, test_set))*100)"
   ]
  },
  {
   "cell_type": "code",
   "execution_count": 7,
   "metadata": {},
   "outputs": [
    {
     "name": "stdout",
     "output_type": "stream",
     "text": [
      "The review for this movie is NEGATIVE\n",
      "The review for this movie is NEGATIVE\n",
      "0.8384733871353828\n",
      "0.16152661286461645\n",
      "The review for this movie is POSITIVE\n",
      "The review for this movie is POSITIVE\n",
      "0.02820263340033779\n",
      "0.9717973665996618\n"
     ]
    }
   ],
   "source": [
    "from nltk.tokenize import word_tokenize\n",
    "\n",
    "\n",
    "# Negative review (using naive bias)\n",
    " \n",
    "custom_review = \"I hated the film. It was a disaster. Poor direction, bad acting.\"\n",
    "custom_review_tokens = word_tokenize(custom_review)\n",
    "custom_review_set = bag_of_words(custom_review_tokens)\n",
    "print (classifier.classify(custom_review_set)) \n",
    "\n",
    "# probability result\n",
    "prob_result = classifier.prob_classify(custom_review_set)\n",
    "print (prob_result.max()) \n",
    "print (prob_result.prob(\"The review for this movie is NEGATIVE\")) #tells probability of each tag \n",
    "print (prob_result.prob(\"The review for this movie is POSITIVE\")) \n",
    "\n",
    "# Positive review (using bias)\n",
    "\n",
    "custom_review = \"It was a wonderful and amazing movie. I loved it. it was quite thrilling and interesting.\"\n",
    "custom_review_tokens = word_tokenize(custom_review)\n",
    "custom_review_set = bag_of_words(custom_review_tokens)\n",
    "print (classifier.classify(custom_review_set)) \n",
    " \n",
    "# probability result\n",
    "prob_result = classifier.prob_classify(custom_review_set)\n",
    "print (prob_result.max()) \n",
    "print (prob_result.prob(\"The review for this movie is NEGATIVE\")) \n",
    "print (prob_result.prob(\"The review for this movie is POSITIVE\")) "
   ]
  },
  {
   "cell_type": "code",
   "execution_count": 8,
   "metadata": {},
   "outputs": [],
   "source": [
    "from nltk.tokenize import word_tokenize\n",
    "\n",
    "\n",
    "def clicked():\n",
    "    custom_review = txt.get()\n",
    "    custom_review_tokens = word_tokenize(custom_review)\n",
    "    custom_review_set = bag_of_words(custom_review_tokens)\n",
    "    output1=MNB_classifier.classify(custom_review_set)\n",
    "    l2.configure(text=output1)\n",
    "    output2=classifier.classify(custom_review_set)\n",
    "    l4.configure(text=output2)\n",
    "\n",
    "import tkinter\n",
    "from tkinter import *\n",
    "window=tkinter.Tk()\n",
    "window.title(\"TEXT BASED SENTIMENT ANALYSIS\")\n",
    "label=tkinter.Label(window, text=\" Enter your movie review-\", font=(40))\n",
    "label.pack()\n",
    "\n",
    "l3=tkinter.Label(window, text=\" According to MNB:\")\n",
    "l3.place(relx = 0.5, rely = 0.5, anchor = 's')\n",
    "l2=tkinter.Label(window)\n",
    "l2.place(relx = 0.5, rely = 0.6, anchor = 's') \n",
    "l5=tkinter.Label(window, text=\" According to Normal NB:\")\n",
    "l5.place(relx = 0.5, rely = 0.7, anchor = 's')\n",
    "l4=tkinter.Label(window)\n",
    "l4.place(relx = 0.5, rely = 0.8, anchor = 's') \n",
    "\n",
    "window.geometry('1000x600')\n",
    "    \n",
    "txt=Entry(window,width=70)\n",
    "txt.place(relx=0.5,rely=0.2,anchor='center')\n",
    "\n",
    "\n",
    "bt= Button(window, text = 'Enter',bg=\"black\",fg=\"white\", command=clicked)\n",
    "bt.place(relx=0.5,rely=0.4,anchor='center')\n",
    "\n",
    "\n",
    "\n",
    "window.mainloop()\n",
    "\n"
   ]
  },
  {
   "cell_type": "code",
   "execution_count": null,
   "metadata": {},
   "outputs": [],
   "source": []
  },
  {
   "cell_type": "code",
   "execution_count": null,
   "metadata": {},
   "outputs": [],
   "source": []
  },
  {
   "cell_type": "code",
   "execution_count": null,
   "metadata": {},
   "outputs": [],
   "source": []
  },
  {
   "cell_type": "code",
   "execution_count": null,
   "metadata": {},
   "outputs": [],
   "source": []
  },
  {
   "cell_type": "code",
   "execution_count": null,
   "metadata": {},
   "outputs": [],
   "source": []
  }
 ],
 "metadata": {
  "kernelspec": {
   "display_name": "Python 3",
   "language": "python",
   "name": "python3"
  },
  "language_info": {
   "codemirror_mode": {
    "name": "ipython",
    "version": 3
   },
   "file_extension": ".py",
   "mimetype": "text/x-python",
   "name": "python",
   "nbconvert_exporter": "python",
   "pygments_lexer": "ipython3",
   "version": "3.8.3"
  }
 },
 "nbformat": 4,
 "nbformat_minor": 4
}
